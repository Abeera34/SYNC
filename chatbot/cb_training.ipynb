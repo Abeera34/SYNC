{
 "cells": [
  {
   "cell_type": "markdown",
   "id": "18735a7f",
   "metadata": {},
   "source": [
    "# Training of College helper Chatbot\n",
    "### Abeera Malakar"
   ]
  },
  {
   "cell_type": "code",
   "execution_count": 28,
   "id": "86e6a0a0",
   "metadata": {},
   "outputs": [],
   "source": [
    "import random\n",
    "import json\n",
    "import pickle\n",
    "import numpy as np"
   ]
  },
  {
   "cell_type": "code",
   "execution_count": 29,
   "id": "b60fcef4",
   "metadata": {},
   "outputs": [],
   "source": [
    "import nltk\n",
    "from nltk.stem import WordNetLemmatizer"
   ]
  },
  {
   "cell_type": "code",
   "execution_count": 30,
   "id": "dff8c8a6",
   "metadata": {},
   "outputs": [],
   "source": [
    "import tensorflow as tf\n",
    "from tensorflow.keras.models import Sequential\n",
    "from tensorflow.keras.layers import Dense,Activation,Dropout\n",
    "from tensorflow.keras.optimizers.legacy import SGD"
   ]
  },
  {
   "cell_type": "code",
   "execution_count": 31,
   "id": "b5237829",
   "metadata": {},
   "outputs": [],
   "source": [
    "# load the intents\n",
    "\n",
    "with open('intents.json','r') as f:\n",
    "   intents= json.load(f)"
   ]
  },
  {
   "cell_type": "markdown",
   "id": "9d525720",
   "metadata": {},
   "source": [
    "Now we're goint to lemmatize each word\n",
    "=> works,worked,working==== work"
   ]
  },
  {
   "cell_type": "code",
   "execution_count": 32,
   "id": "e7b8bc0e",
   "metadata": {},
   "outputs": [],
   "source": [
    "lt=WordNetLemmatizer()"
   ]
  },
  {
   "cell_type": "code",
   "execution_count": 33,
   "id": "ae2231b5",
   "metadata": {},
   "outputs": [],
   "source": [
    "words=[]\n",
    "classes=[]\n",
    "documents=[]\n",
    "ignore_letters=['?','!','.',',']"
   ]
  },
  {
   "cell_type": "code",
   "execution_count": 34,
   "id": "15992f08",
   "metadata": {},
   "outputs": [],
   "source": [
    "for intent in intents['intents']:\n",
    "    for pattern in intent['patterns']:\n",
    "        word_list=nltk.word_tokenize(pattern)#tokenize=> \"helo me god\"==[\"hello\",\"me\",\"god\"]\n",
    "        words.extend(word_list) #appending each word in word list\n",
    "        documents.append((word_list,intent['tag'])) # storing word and their tags\n",
    "        if intent['tag'] not in classes:\n",
    "            classes.append(intent['tag'])#appending the tags in classes\n",
    "#now lemmatizing the words        \n",
    "words=[lt.lemmatize(word) for word in words if word not in ignore_letters]\n",
    "words=sorted(set(words))\n",
    "classes=sorted(set(classes))"
   ]
  },
  {
   "cell_type": "code",
   "execution_count": 35,
   "id": "68dcf95a",
   "metadata": {},
   "outputs": [
    {
     "name": "stdout",
     "output_type": "stream",
     "text": [
      "[\"'s\", '(', ')', 'AC', 'AI/ML', 'AI/Ml', 'About', 'Ac', 'Are', 'Bye', 'Cafetaria', 'Can', 'Chemical', 'Civil', 'College', 'Computer', 'Contact', 'Do', 'Does', 'Engineering', 'Events', 'Food', 'Give', 'Good', 'Goodbye', 'HOD', 'Have', 'Hello', 'Hi', 'Holiday', 'How', 'I', 'IT', 'Information', 'Is', 'Leaving', 'Library', 'ME', 'Mechanical', 'See', 'Semester', 'Sports', 'Syllabus', 'Technology', 'Tell', 'Thank', 'Thanks', 'UNI', 'What', 'Whats', 'When', 'Where', 'Which', 'Who', 'Will', 'You', 'a', 'about', 'active', 'activity', 'address', 'admision', 'admission', 'against', 'allotment', 'am', 'an', 'and', 'antiragging', 'any', 'anyone', 'are', 'as', 'asshole', 'at', 'attend', 'automobile', 'available', 'average', 'be', 'between', 'big', 'bitch', 'book', 'boy', 'branch', 'bring', 'building', 'by', 'bye', 'cafetaria', 'call', 'called', 'campus', 'can', 'canteen', 'capacity', 'case', 'casuals', 'ce', 'chatting', 'chemical', 'civil', 'code', 'college', 'come', 'committee', 'comp', 'company', 'computer', 'conducted', 'contact', 'course', 'create', 'created', 'creator', 'cse', 'cya', 'date', 'day', 'designed', 'detail', 'developer', 'different', 'distance', 'do', 'document', 'doe', 'done', 'dress', 'dresscode', 'dumb', 'during', 'each', 'eat', 'end', 'engineering', 'event', 'exam', 'facility', 'far', 'fee', 'first', 'floor', 'food', 'for', 'fourth', 'from', 'fuck', 'fucker', 'function', 'game', 'get', 'girl', 'give', 'go', 'good', 'got', 'gtg', 'guy', 'have', 'held', 'hell', 'help', 'here', 'heyy', 'history', 'hod', 'holiday', 'hostel', 'hour', 'how', 'i', 'idiot', 'in', 'incident', 'info', 'information', 'infrastructure', 'intake', 'is', 'it', 'job', 'junior', 'k', 'later', 'lecture', 'library', 'list', 'located', 'location', 'long', 'love', 'made', 'many', 'marry', 'max', 'maximum', 'me', 'mechanical', 'menu', 'more', 'much', 'my', 'name', 'need', 'needed', 'next', 'nice', 'no', 'non-AC', 'non-Ac', 'number', 'of', 'offer', 'offered', 'office', 'ok', 'okay', 'okie', 'okk', 'on', 'open', 'operation', 'organised', 'package', 'per', 'phone', 'placement', 'please', 'practice', 'principal', 'process', 'provide', 'provided', 'ragging', 'reach', 'recruitment', 'required', 'room', 'saturday', 'schedule', 'scholarship', 'seat', 'second', 'see', 'sem', 'semester', 'servive', 'should', 'shut', 'size', 'something', 'sport', 'start', 'student', 'stupid', 'syllabus', 'take', 'taken', 'taking', 'talk', 'tall', 'telephone', 'tell', 'thanks', 'the', 'there', 'these', 'thing', 'third', 'this', 'time', 'timetable', 'timing', 'to', 'ttyl', 'u', 'uniform', 'univrsity', 'up', 'use', 'vacation', 'variety', 'visit', 'we', 'wear', 'well', 'what', 'whats', 'whatsup', 'whatv', 'when', 'where', 'wheres', 'who', 'whom', 'why', 'will', 'work', 'working', 'ya', 'year', 'you', 'your']\n"
     ]
    }
   ],
   "source": [
    "print(words)"
   ]
  },
  {
   "cell_type": "code",
   "execution_count": 36,
   "id": "670063f8",
   "metadata": {},
   "outputs": [],
   "source": [
    "pickle.dump(words,open('words.pkl','wb'))\n",
    "pickle.dump(classes,open('classes.pkl','wb'))"
   ]
  },
  {
   "cell_type": "markdown",
   "id": "6cd2718a",
   "metadata": {},
   "source": [
    "now we will use bag of words technique to convert the words to neumerical values as neural network uses neumerical values"
   ]
  },
  {
   "cell_type": "code",
   "execution_count": 37,
   "id": "2a426e4d",
   "metadata": {},
   "outputs": [],
   "source": [
    "training=[]\n",
    "output_empty=[0]*len(classes)\n",
    "\n",
    "for document in documents:\n",
    "    bag=[] #crearing an empty bag\n",
    "    word_patterns=document[0]; #as the word is the first element of document\n",
    "    word_patterns=[lt.lemmatize(word.lower()) for word in word_patterns] #lemmatizing the lowercase words for training list\n",
    "    for word in words:\n",
    "        bag.append(1) if word in word_patterns else bag.append(0)\n",
    "        \n",
    "    output_row=list(output_empty)\n",
    "    output_row[classes.index(document[1])]=1 #mark the selected class of document as 1\n",
    "    training.append([bag,output_row])"
   ]
  },
  {
   "cell_type": "code",
   "execution_count": 38,
   "id": "ced9d3e8",
   "metadata": {},
   "outputs": [
    {
     "name": "stderr",
     "output_type": "stream",
     "text": [
      "C:\\Users\\Sleo\\AppData\\Local\\Temp\\ipykernel_17232\\1965495709.py:4: VisibleDeprecationWarning: Creating an ndarray from ragged nested sequences (which is a list-or-tuple of lists-or-tuples-or ndarrays with different lengths or shapes) is deprecated. If you meant to do this, you must specify 'dtype=object' when creating the ndarray.\n",
      "  training=np.array(training)\n"
     ]
    }
   ],
   "source": [
    "#shuffel the data randomly for training\n",
    "\n",
    "random.shuffle(training)\n",
    "training=np.array(training)"
   ]
  },
  {
   "cell_type": "code",
   "execution_count": 39,
   "id": "580158ef",
   "metadata": {},
   "outputs": [],
   "source": [
    "#input & output data\n",
    "\n",
    "train_x=list(training[:,0])\n",
    "train_y=list(training[:,1])"
   ]
  },
  {
   "cell_type": "markdown",
   "id": "941cf158",
   "metadata": {},
   "source": [
    "##### Model Building"
   ]
  },
  {
   "cell_type": "code",
   "execution_count": 40,
   "id": "30cbb65a",
   "metadata": {},
   "outputs": [],
   "source": [
    "model=Sequential()\n",
    "model.add(Dense(128,input_shape=(len(train_x[0]),),activation='relu'))\n",
    "model.add(Dropout(0.5))\n",
    "model.add(Dense(64,activation='relu'))\n",
    "model.add(Dropout(0.5))\n",
    "model.add(Dense(len(train_y[0]),activation='softmax'))\n",
    "\n",
    "sgd=SGD(learning_rate=0.01,decay=1e-6,momentum=0.9,nesterov=True)"
   ]
  },
  {
   "cell_type": "code",
   "execution_count": 41,
   "id": "9e4e1b2a",
   "metadata": {},
   "outputs": [
    {
     "name": "stdout",
     "output_type": "stream",
     "text": [
      "Model: \"sequential_1\"\n",
      "_________________________________________________________________\n",
      " Layer (type)                Output Shape              Param #   \n",
      "=================================================================\n",
      " dense_3 (Dense)             (None, 128)               39168     \n",
      "                                                                 \n",
      " dropout_2 (Dropout)         (None, 128)               0         \n",
      "                                                                 \n",
      " dense_4 (Dense)             (None, 64)                8256      \n",
      "                                                                 \n",
      " dropout_3 (Dropout)         (None, 64)                0         \n",
      "                                                                 \n",
      " dense_5 (Dense)             (None, 38)                2470      \n",
      "                                                                 \n",
      "=================================================================\n",
      "Total params: 49,894\n",
      "Trainable params: 49,894\n",
      "Non-trainable params: 0\n",
      "_________________________________________________________________\n"
     ]
    }
   ],
   "source": [
    "model.summary()"
   ]
  },
  {
   "cell_type": "code",
   "execution_count": 42,
   "id": "3de0ab34",
   "metadata": {},
   "outputs": [],
   "source": [
    "model.compile(loss='categorical_crossentropy',optimizer=sgd,metrics=['accuracy'])"
   ]
  },
  {
   "cell_type": "code",
   "execution_count": null,
   "id": "5ce10619",
   "metadata": {},
   "outputs": [],
   "source": [
    "hist=model.fit(np.array(train_x),np.array(train_y),epochs=200,batch_size=10,verbose=1)"
   ]
  },
  {
   "cell_type": "code",
   "execution_count": null,
   "id": "32cc4a6c",
   "metadata": {},
   "outputs": [],
   "source": [
    "model.save('CollegeBuddy_model.h5',hist)"
   ]
  },
  {
   "cell_type": "code",
   "execution_count": null,
   "id": "b0745373",
   "metadata": {},
   "outputs": [],
   "source": []
  }
 ],
 "metadata": {
  "kernelspec": {
   "display_name": "Python 3 (ipykernel)",
   "language": "python",
   "name": "python3"
  },
  "language_info": {
   "codemirror_mode": {
    "name": "ipython",
    "version": 3
   },
   "file_extension": ".py",
   "mimetype": "text/x-python",
   "name": "python",
   "nbconvert_exporter": "python",
   "pygments_lexer": "ipython3",
   "version": "3.9.13"
  }
 },
 "nbformat": 4,
 "nbformat_minor": 5
}
