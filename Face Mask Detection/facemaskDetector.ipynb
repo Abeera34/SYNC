{
 "cells": [
  {
   "cell_type": "markdown",
   "metadata": {
    "id": "ZoZ64EPgf2KZ"
   },
   "source": [
    "# Real Time Face Mask Detection\n",
    "### task 2\n",
    "#### Sync Machine Learning Internship\n",
    "##### Abeera Malakar\n"
   ]
  },
  {
   "cell_type": "code",
   "execution_count": 1,
   "metadata": {
    "id": "O0HSi7d-fkX1"
   },
   "outputs": [],
   "source": [
    "! pip install -q kaggle"
   ]
  },
  {
   "cell_type": "code",
   "execution_count": 2,
   "metadata": {
    "colab": {
     "base_uri": "https://localhost:8080/"
    },
    "id": "RPTANTIBgaO6",
    "outputId": "e35a128e-3905-49bb-cf91-e58b0a1af96e"
   },
   "outputs": [
    {
     "name": "stderr",
     "output_type": "stream",
     "text": [
      "'rm' is not recognized as an internal or external command,\n",
      "operable program or batch file.\n",
      "The syntax of the command is incorrect.\n",
      "'cp' is not recognized as an internal or external command,\n",
      "operable program or batch file.\n"
     ]
    }
   ],
   "source": [
    "# Acessing direct dataset from kaggle\n",
    "\n",
    "!rm -r ~/.kaggle\n",
    "! mkdir ~/.kaggle\n",
    "! cp kaggle.json ~/.kaggle/"
   ]
  },
  {
   "cell_type": "code",
   "execution_count": 3,
   "metadata": {
    "colab": {
     "base_uri": "https://localhost:8080/"
    },
    "id": "-wv-pevdggG5",
    "outputId": "a1a82f33-0cc2-41e9-8f6a-bb43537a7f0f"
   },
   "outputs": [
    {
     "name": "stderr",
     "output_type": "stream",
     "text": [
      "Traceback (most recent call last):\n",
      "  File \"C:\\Users\\Sleo\\anaconda3\\lib\\runpy.py\", line 197, in _run_module_as_main\n",
      "    return _run_code(code, main_globals, None,\n",
      "  File \"C:\\Users\\Sleo\\anaconda3\\lib\\runpy.py\", line 87, in _run_code\n",
      "    exec(code, run_globals)\n",
      "  File \"C:\\Users\\Sleo\\anaconda3\\Scripts\\kaggle.exe\\__main__.py\", line 4, in <module>\n",
      "  File \"C:\\Users\\Sleo\\anaconda3\\lib\\site-packages\\kaggle\\__init__.py\", line 23, in <module>\n",
      "    api.authenticate()\n",
      "  File \"C:\\Users\\Sleo\\anaconda3\\lib\\site-packages\\kaggle\\api\\kaggle_api_extended.py\", line 164, in authenticate\n",
      "    raise IOError('Could not find {}. Make sure it\\'s located in'\n",
      "OSError: Could not find kaggle.json. Make sure it's located in C:\\Users\\Sleo\\.kaggle. Or use the environment method.\n"
     ]
    }
   ],
   "source": [
    "!kaggle datasets download -d ashishjangra27/face-mask-12k-images-dataset"
   ]
  },
  {
   "cell_type": "code",
   "execution_count": 4,
   "metadata": {
    "id": "dz316hCvg9bC"
   },
   "outputs": [
    {
     "ename": "FileNotFoundError",
     "evalue": "[Errno 2] No such file or directory: '/content/face-mask-12k-images-dataset.zip'",
     "output_type": "error",
     "traceback": [
      "\u001b[1;31m---------------------------------------------------------------------------\u001b[0m",
      "\u001b[1;31mFileNotFoundError\u001b[0m                         Traceback (most recent call last)",
      "Cell \u001b[1;32mIn[4], line 4\u001b[0m\n\u001b[0;32m      1\u001b[0m \u001b[38;5;66;03m# unzipping\u001b[39;00m\n\u001b[0;32m      3\u001b[0m \u001b[38;5;28;01mimport\u001b[39;00m \u001b[38;5;21;01mzipfile\u001b[39;00m\n\u001b[1;32m----> 4\u001b[0m ref\u001b[38;5;241m=\u001b[39m\u001b[43mzipfile\u001b[49m\u001b[38;5;241;43m.\u001b[39;49m\u001b[43mZipFile\u001b[49m\u001b[43m(\u001b[49m\u001b[38;5;124;43m'\u001b[39;49m\u001b[38;5;124;43m/content/face-mask-12k-images-dataset.zip\u001b[39;49m\u001b[38;5;124;43m'\u001b[39;49m\u001b[43m,\u001b[49m\u001b[38;5;124;43m'\u001b[39;49m\u001b[38;5;124;43mr\u001b[39;49m\u001b[38;5;124;43m'\u001b[39;49m\u001b[43m)\u001b[49m\n\u001b[0;32m      5\u001b[0m ref\u001b[38;5;241m.\u001b[39mextractall(\u001b[38;5;124m'\u001b[39m\u001b[38;5;124m/content\u001b[39m\u001b[38;5;124m'\u001b[39m)\n\u001b[0;32m      6\u001b[0m ref\u001b[38;5;241m.\u001b[39mclose()\n",
      "File \u001b[1;32m~\\anaconda3\\lib\\zipfile.py:1248\u001b[0m, in \u001b[0;36mZipFile.__init__\u001b[1;34m(self, file, mode, compression, allowZip64, compresslevel, strict_timestamps)\u001b[0m\n\u001b[0;32m   1246\u001b[0m \u001b[38;5;28;01mwhile\u001b[39;00m \u001b[38;5;28;01mTrue\u001b[39;00m:\n\u001b[0;32m   1247\u001b[0m     \u001b[38;5;28;01mtry\u001b[39;00m:\n\u001b[1;32m-> 1248\u001b[0m         \u001b[38;5;28mself\u001b[39m\u001b[38;5;241m.\u001b[39mfp \u001b[38;5;241m=\u001b[39m \u001b[43mio\u001b[49m\u001b[38;5;241;43m.\u001b[39;49m\u001b[43mopen\u001b[49m\u001b[43m(\u001b[49m\u001b[43mfile\u001b[49m\u001b[43m,\u001b[49m\u001b[43m \u001b[49m\u001b[43mfilemode\u001b[49m\u001b[43m)\u001b[49m\n\u001b[0;32m   1249\u001b[0m     \u001b[38;5;28;01mexcept\u001b[39;00m \u001b[38;5;167;01mOSError\u001b[39;00m:\n\u001b[0;32m   1250\u001b[0m         \u001b[38;5;28;01mif\u001b[39;00m filemode \u001b[38;5;129;01min\u001b[39;00m modeDict:\n",
      "\u001b[1;31mFileNotFoundError\u001b[0m: [Errno 2] No such file or directory: '/content/face-mask-12k-images-dataset.zip'"
     ]
    }
   ],
   "source": [
    "# unzipping\n",
    "\n",
    "import zipfile\n",
    "ref=zipfile.ZipFile('/content/face-mask-12k-images-dataset.zip','r')\n",
    "ref.extractall('/content')\n",
    "ref.close()"
   ]
  },
  {
   "cell_type": "code",
   "execution_count": null,
   "metadata": {
    "id": "KFnBUdi9f31L"
   },
   "outputs": [],
   "source": [
    "import numpy as np\n",
    "import pandas as pd\n",
    "import os"
   ]
  },
  {
   "cell_type": "code",
   "execution_count": null,
   "metadata": {
    "id": "5lBFw0yVhZLi"
   },
   "outputs": [],
   "source": [
    "import matplotlib.pyplot as plt\n",
    "import cv2\n",
    "from PIL import Image"
   ]
  },
  {
   "cell_type": "code",
   "execution_count": null,
   "metadata": {
    "colab": {
     "base_uri": "https://localhost:8080/",
     "height": 435
    },
    "id": "3dE_JcW-hkhY",
    "outputId": "192ceaa4-9505-43b5-bd67-4e21d019af8f"
   },
   "outputs": [],
   "source": [
    "x=\"/content/Face Mask Dataset/Train/WithMask/1212.png\"\n",
    "img=Image.open(x)\n",
    "img = img.resize((300,300))\n",
    "sr = np.array(img) \n",
    "plt.imshow(img)\n",
    "plt.show()"
   ]
  },
  {
   "cell_type": "code",
   "execution_count": null,
   "metadata": {
    "colab": {
     "base_uri": "https://localhost:8080/",
     "height": 435
    },
    "id": "UlZE12L-hs2B",
    "outputId": "fa0aab50-c496-44b2-98bb-464137772868"
   },
   "outputs": [],
   "source": [
    "x=\"/content/Face Mask Dataset/Train/WithMask/1057.png\"\n",
    "img=Image.open(x)\n",
    "img = img.resize((300,300))\n",
    "sr = np.array(img) \n",
    "plt.imshow(img)\n",
    "plt.show()"
   ]
  },
  {
   "cell_type": "code",
   "execution_count": null,
   "metadata": {
    "colab": {
     "base_uri": "https://localhost:8080/",
     "height": 435
    },
    "id": "bWpM1IcihwvB",
    "outputId": "a34206e6-1176-4c91-9497-03ffcf09b236"
   },
   "outputs": [],
   "source": [
    "x=\"/content/Face Mask Dataset/Train/WithoutMask/1022.png\"\n",
    "img=Image.open(x)\n",
    "img = img.resize((300,300))\n",
    "sr = np.array(img) \n",
    "plt.imshow(img)\n",
    "plt.show()"
   ]
  },
  {
   "cell_type": "code",
   "execution_count": null,
   "metadata": {
    "colab": {
     "base_uri": "https://localhost:8080/",
     "height": 435
    },
    "id": "TJ6AJ4dohxIn",
    "outputId": "9298e71f-3f5c-4e3d-8702-f0e8720405e2"
   },
   "outputs": [],
   "source": [
    "x=\"/content/Face Mask Dataset/Train/WithoutMask/1112.png\"\n",
    "img=Image.open(x)\n",
    "img = img.resize((300,300))\n",
    "sr = np.array(img) \n",
    "plt.imshow(img)\n",
    "plt.show()"
   ]
  },
  {
   "cell_type": "code",
   "execution_count": null,
   "metadata": {
    "colab": {
     "base_uri": "https://localhost:8080/"
    },
    "id": "20yITXT1hxlI",
    "outputId": "5a91ef26-2d7e-4218-c8e2-a3756869abeb"
   },
   "outputs": [],
   "source": [
    " # Normalization \n",
    "\n",
    "from keras.preprocessing import image\n",
    "# path set korchi\n",
    "train_path = \"/content/Face Mask Dataset/Train\"\n",
    "# image generation object\n",
    "data=image.ImageDataGenerator(rescale=1./255)\n",
    "#dataset normalization\n",
    "x=data.flow_from_directory(train_path, \n",
    "                           target_size = (26,26),\n",
    "                           batch_size = 32, \n",
    "                           class_mode = 'categorical')"
   ]
  },
  {
   "cell_type": "code",
   "execution_count": null,
   "metadata": {
    "id": "OLCB1cNniQ0I"
   },
   "outputs": [],
   "source": [
    "# Displaying the Classes\n",
    "\n",
    "classes=['WithMask','WithoutMask']"
   ]
  },
  {
   "cell_type": "code",
   "execution_count": null,
   "metadata": {
    "colab": {
     "base_uri": "https://localhost:8080/"
    },
    "id": "BX-K1xo7iVyw",
    "outputId": "edca87d5-61e3-487b-87aa-a70648b532ec"
   },
   "outputs": [],
   "source": [
    "# Storing The Data and the Labels\n",
    "\n",
    "data = []\n",
    "labels = []\n",
    "for i in classes:\n",
    "    path = os.path.join(train_path,str(i))\n",
    "    images = os.listdir(path)\n",
    "    for a in images:\n",
    "        try:\n",
    "            image=Image.open(path + '/' + a)\n",
    "            image=image.resize((30,30))\n",
    "            image=np.array(image)\n",
    "            data.append(image)\n",
    "            labels.append(i)\n",
    "        except:\n",
    "            print(\"error loading image.\")\n",
    "data = np.array(data)\n",
    "labels = np.array(labels)\n",
    "print(data.shape)\n",
    "print(labels.shape)"
   ]
  },
  {
   "cell_type": "code",
   "execution_count": null,
   "metadata": {
    "colab": {
     "base_uri": "https://localhost:8080/"
    },
    "id": "XPfKnv-HiZAI",
    "outputId": "e3e898b0-a430-4a3d-d0b8-0c061226e0c8"
   },
   "outputs": [],
   "source": [
    "# splitting the training and testing data\n",
    "\n",
    "from sklearn.model_selection import train_test_split\n",
    "\n",
    "x_train,x_test,y_train,y_test=train_test_split(data,labels,test_size=0.2,random_state=50)\n",
    "\n",
    "print(x_train.shape,x_test.shape,y_train.shape,y_test.shape)"
   ]
  },
  {
   "cell_type": "code",
   "execution_count": null,
   "metadata": {
    "id": "9_SbcbzxigUI"
   },
   "outputs": [],
   "source": [
    "# Lets Convert the labels to categorical\n",
    "\n",
    "from tensorflow.keras.utils import to_categorical\n",
    "\n",
    "from sklearn.preprocessing import LabelEncoder # first amader oi string type category guloke int e ante hobe \n",
    "label_encoder = LabelEncoder()\n",
    "y_train=np.array(y_train)\n",
    "y_test=np.array(y_test)\n",
    "y_train=label_encoder.fit_transform(y_train)\n",
    "y_test=label_encoder.fit_transform(y_test)"
   ]
  },
  {
   "cell_type": "code",
   "execution_count": null,
   "metadata": {
    "id": "jpbbt7_Oil74"
   },
   "outputs": [],
   "source": [
    "y_train=to_categorical(y_train,num_classes=2)\n",
    "y_test=to_categorical(y_test,num_classes=2)"
   ]
  },
  {
   "cell_type": "code",
   "execution_count": null,
   "metadata": {
    "id": "DYjVP1avipXQ"
   },
   "outputs": [],
   "source": [
    "# importing librareis for CNN\n",
    "\n",
    "import tensorflow as tf\n",
    "from tensorflow import keras\n",
    "from keras import Sequential\n",
    "from keras.layers import Dense,Conv2D,MaxPool2D,Flatten,Dropout"
   ]
  },
  {
   "cell_type": "code",
   "execution_count": null,
   "metadata": {
    "id": "uysrxoeCiuPY"
   },
   "outputs": [],
   "source": [
    "model= Sequential()\n",
    "\n",
    "#Layer1: 32 Filters\n",
    "model.add(Conv2D(32,kernel_size=(5,5),padding='valid',activation='relu',input_shape=x_train.shape[1:])) # convolution layer\n",
    "model.add(MaxPool2D(pool_size=(2,2),strides=2,padding='valid')) #pooling layer\n",
    "model.add(Dropout(rate=0.25)) # dropout layer\n",
    "#Layer2: 64 Filters\n",
    "model.add(Conv2D(64,kernel_size=(5,5),padding='valid',activation='relu')) \n",
    "model.add(MaxPool2D(pool_size=(2,2),strides=2,padding='valid'))\n",
    "model.add(Dropout(rate=0.25))\n",
    "\n",
    "#Flatten Layer\n",
    "model.add(Flatten())\n",
    "\n",
    "#Now we will add 1 fully connected layers\n",
    "model.add(Dense(256,activation='relu'))\n",
    "\n",
    "#Final Dropout Layer\n",
    "model.add(Dropout(rate=0.5))\n",
    "\n",
    "#Final Dense layer with 2 as Output is 2 Class\n",
    "model.add(Dense(2, activation='softmax'))"
   ]
  },
  {
   "cell_type": "code",
   "execution_count": null,
   "metadata": {
    "colab": {
     "base_uri": "https://localhost:8080/"
    },
    "id": "SxT1Wnlhiyu4",
    "outputId": "96852754-1853-4777-e649-bd1d6e3bd4cc"
   },
   "outputs": [],
   "source": [
    "#Summary of the Model\n",
    "\n",
    "model.summary()"
   ]
  },
  {
   "cell_type": "code",
   "execution_count": null,
   "metadata": {
    "id": "GVQjRY56i2Uo"
   },
   "outputs": [],
   "source": [
    "#compiling the model\n",
    "\n",
    "model.compile(loss='categorical_crossentropy', optimizer='adam', metrics=['accuracy'])"
   ]
  },
  {
   "cell_type": "code",
   "execution_count": null,
   "metadata": {
    "colab": {
     "base_uri": "https://localhost:8080/"
    },
    "id": "Nx6MAgnIi6Bw",
    "outputId": "f9ebe304-507a-43a0-e984-4cf8e330dc91"
   },
   "outputs": [],
   "source": [
    "# fitting\n",
    "history=model.fit(x_train,y_train,batch_size=32,epochs=25,validation_data=(x_test, y_test))"
   ]
  },
  {
   "cell_type": "code",
   "execution_count": null,
   "metadata": {
    "colab": {
     "base_uri": "https://localhost:8080/"
    },
    "id": "gPPiVocni8aw",
    "outputId": "423a496d-53e2-4d7c-e1a3-99b623fab161"
   },
   "outputs": [],
   "source": [
    "# accuracy of the model\n",
    "\n",
    "score = model.evaluate(x_test,y_test,verbose = 0)\n",
    "print('test accuracy: ', score[1]*100,'%')"
   ]
  },
  {
   "cell_type": "markdown",
   "metadata": {
    "id": "6TCgacR5lBgT"
   },
   "source": [
    "to test our model"
   ]
  },
  {
   "cell_type": "code",
   "execution_count": null,
   "metadata": {
    "id": "jwdKzar3k59R"
   },
   "outputs": [],
   "source": [
    "from PIL import Image\n",
    "import numpy as np\n",
    "import matplotlib.pyplot as plt\n",
    "\n",
    "def check(img):\n",
    "    data=[]\n",
    "    image = Image.open(img)\n",
    "    image = image.resize((30,30))\n",
    "    data.append(np.array(image))\n",
    "    x=np.array(data)\n",
    "    y=np.argmax(model.predict(x),axis=1)\n",
    "    return image,y"
   ]
  },
  {
   "cell_type": "code",
   "execution_count": null,
   "metadata": {
    "colab": {
     "base_uri": "https://localhost:8080/",
     "height": 465
    },
    "id": "COk1y3lSlM8O",
    "outputId": "832c9ac1-49a1-4713-c737-24a0a068ebe4"
   },
   "outputs": [],
   "source": [
    "plot,prediction=check(r'/content/Face Mask Dataset/Train/WithoutMask/1067.png') # ans is without Mask\n",
    "s=[str(i)for i in prediction] \n",
    "a=\"\".join(s)\n",
    "a=int(a)\n",
    "print(\"Prediction: \", classes[a])\n",
    "plt.imshow(plot)\n",
    "plt.show()"
   ]
  },
  {
   "cell_type": "code",
   "execution_count": null,
   "metadata": {
    "colab": {
     "base_uri": "https://localhost:8080/",
     "height": 465
    },
    "id": "leYmVUGdlQqc",
    "outputId": "4f4dc31e-469b-4aa2-eaf9-1ff87385cece"
   },
   "outputs": [],
   "source": [
    "plot,prediction=check(r'/content/Face Mask Dataset/Train/WithMask/1153.png') # ans is with mask\n",
    "s=[str(i)for i in prediction] \n",
    "a=\"\".join(s)\n",
    "a=int(a)\n",
    "print(\"Prediction: \", classes[a])\n",
    "plt.imshow(plot)\n",
    "plt.show()"
   ]
  },
  {
   "cell_type": "code",
   "execution_count": null,
   "metadata": {
    "colab": {
     "base_uri": "https://localhost:8080/",
     "height": 465
    },
    "id": "OcnXDotllR8w",
    "outputId": "b31a63e5-6a25-4ee8-bf33-376b42ba06b8"
   },
   "outputs": [],
   "source": [
    "plot,prediction=check(r'/content/Face Mask Dataset/Train/WithMask/1415.png') # ans is with mask \n",
    "s=[str(i)for i in prediction] \n",
    "a=\"\".join(s)\n",
    "a=int(a)\n",
    "print(\"Prediction: \", classes[a])\n",
    "plt.imshow(plot)\n",
    "plt.show()"
   ]
  },
  {
   "cell_type": "code",
   "execution_count": null,
   "metadata": {
    "colab": {
     "base_uri": "https://localhost:8080/",
     "height": 465
    },
    "id": "P05G1l4HlS6K",
    "outputId": "db5af739-e7d1-417d-fe45-45569346ee0a"
   },
   "outputs": [],
   "source": [
    "plot,prediction=check(r'/content/Face Mask Dataset/Train/WithoutMask/1104.png') # ans is Without mask\n",
    "s=[str(i)for i in prediction] \n",
    "a=\"\".join(s)\n",
    "a=int(a)\n",
    "print(\"Prediction: \", classes[a])\n",
    "plt.imshow(plot)\n",
    "plt.show()"
   ]
  },
  {
   "cell_type": "code",
   "execution_count": null,
   "metadata": {
    "id": "ORk5cbtomPdw"
   },
   "outputs": [],
   "source": [
    "import pickle\n",
    "pickle.dump(model,open('maskdetector.pkl','wb'))"
   ]
  },
  {
   "cell_type": "code",
   "execution_count": null,
   "metadata": {
    "id": "F1fH7AFCmjbl"
   },
   "outputs": [],
   "source": [
    "model.save('model.h5')"
   ]
  },
  {
   "cell_type": "code",
   "execution_count": null,
   "metadata": {
    "id": "_cTuLwg3mnt4"
   },
   "outputs": [],
   "source": []
  }
 ],
 "metadata": {
  "colab": {
   "provenance": []
  },
  "kernelspec": {
   "display_name": "Python 3 (ipykernel)",
   "language": "python",
   "name": "python3"
  },
  "language_info": {
   "codemirror_mode": {
    "name": "ipython",
    "version": 3
   },
   "file_extension": ".py",
   "mimetype": "text/x-python",
   "name": "python",
   "nbconvert_exporter": "python",
   "pygments_lexer": "ipython3",
   "version": "3.9.13"
  }
 },
 "nbformat": 4,
 "nbformat_minor": 1
}
